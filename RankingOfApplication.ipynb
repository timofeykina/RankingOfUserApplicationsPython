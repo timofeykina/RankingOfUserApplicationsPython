{
 "cells": [
  {
   "cell_type": "code",
   "execution_count": 1,
   "id": "764413b9-7076-4f55-a58c-a3af0a5c6e7a",
   "metadata": {},
   "outputs": [],
   "source": [
    "import pandas as pd\n",
    "import numpy as np\n",
    "import seaborn as sns\n",
    "import matplotlib.pyplot as plt"
   ]
  },
  {
   "cell_type": "code",
   "execution_count": 2,
   "id": "30a71728-8590-4d20-8ecc-56f17488bdb3",
   "metadata": {},
   "outputs": [],
   "source": [
    "applications_data = pd.read_csv('C:/Users/applications(2.0).csv')\n"
   ]
  },
  {
   "cell_type": "code",
   "execution_count": 3,
   "id": "ad2bd390-66f7-4ad4-bcf0-f0f8d593f507",
   "metadata": {},
   "outputs": [
    {
     "name": "stdout",
     "output_type": "stream",
     "text": [
      "<class 'pandas.core.frame.DataFrame'>\n",
      "RangeIndex: 13315 entries, 0 to 13314\n",
      "Data columns (total 10 columns):\n",
      " #   Column           Non-Null Count  Dtype  \n",
      "---  ------           --------------  -----  \n",
      " 0   Applied at       13315 non-null  object \n",
      " 1   Amount           13272 non-null  float64\n",
      " 2   Age              13315 non-null  int64  \n",
      " 3   Gender           13315 non-null  object \n",
      " 4   Industry         13315 non-null  object \n",
      " 5   Marital status   13315 non-null  object \n",
      " 6   External Rating  13243 non-null  float64\n",
      " 7   Education level  13282 non-null  object \n",
      " 8   Location         11540 non-null  object \n",
      " 9   applicant_id     13315 non-null  object \n",
      "dtypes: float64(2), int64(1), object(7)\n",
      "memory usage: 1.0+ MB\n"
     ]
    }
   ],
   "source": [
    "applications_data.info()"
   ]
  },
  {
   "cell_type": "code",
   "execution_count": 4,
   "id": "07edb99b-d076-4399-ba47-e9eec4679b75",
   "metadata": {},
   "outputs": [
    {
     "name": "stdout",
     "output_type": "stream",
     "text": [
      "                Applied at   Amount  Age   Gender  \\\n",
      "1      11.30.2022 10:26:39      NaN   36  Чоловік   \n",
      "2      11.30.2022 10:26:58   7500.0   34  Чоловік   \n",
      "3      11.30.2022 10:27:31   1500.0   23    Жінка   \n",
      "4      11.30.2022 10:27:34   8400.0   33    Жінка   \n",
      "5      11.30.2022 10:27:38  16500.0   31  Чоловік   \n",
      "...                    ...      ...  ...      ...   \n",
      "13310     01.09.2023 11:01  12000.0   25  Чоловік   \n",
      "13311     01.09.2023 11:14  10500.0   28  Чоловік   \n",
      "13312     01.09.2023 11:19   5790.0   25  Чоловік   \n",
      "13313     01.09.2023 11:28  13500.0   31  Чоловік   \n",
      "13314     01.09.2023 11:38  12600.0   32  Чоловік   \n",
      "\n",
      "                           Industry Marital status  External Rating  \\\n",
      "1      Public services / Government         Single              3.0   \n",
      "2              Adtech / Advertising         Single              4.0   \n",
      "3                           Telecom         Single              0.0   \n",
      "4                        Automotive         Single              6.0   \n",
      "5                        E-commerce         Single              8.0   \n",
      "...                             ...            ...              ...   \n",
      "13310          Medtech / Healthcare         Single              6.0   \n",
      "13311                    Blockchain        Married              5.0   \n",
      "13312                    Blockchain        Married              3.0   \n",
      "13313                        Mobile         Single              8.0   \n",
      "13314             High Load Systems        Married             11.0   \n",
      "\n",
      "                            Education level            Location  \\\n",
      "1      Вища (бакалавр, спеціаліст, магістр)                 NaN   \n",
      "2      Вища (бакалавр, спеціаліст, магістр)     Київ чи область   \n",
      "3      Вища (бакалавр, спеціаліст, магістр)    Львів чи область   \n",
      "4      Вища (бакалавр, спеціаліст, магістр)  Житомир чи область   \n",
      "5      Вища (бакалавр, спеціаліст, магістр)     Київ чи область   \n",
      "...                                     ...                 ...   \n",
      "13310  Вища (бакалавр, спеціаліст, магістр)   Харків чи область   \n",
      "13311  Вища (бакалавр, спеціаліст, магістр)                 NaN   \n",
      "13312  Вища (бакалавр, спеціаліст, магістр)   Дніпро чи область   \n",
      "13313                               Середня    Одеса чи область   \n",
      "13314  Вища (бакалавр, спеціаліст, магістр)                 NaN   \n",
      "\n",
      "                           applicant_id  \n",
      "1      63dfcf8e6904186650d6814279fbe42f  \n",
      "2      10dbafaeb46c09e96b6987c03bbb3498  \n",
      "3      5847ac62cc9eac5e323c2517dcc91ad1  \n",
      "4      5d21f3795b50de8e8f8f8d5f48b754f3  \n",
      "5      f720bf9c5c4c3e10a8568c1699847696  \n",
      "...                                 ...  \n",
      "13310  01908b949a6a1eb44d1ee013ec377f9d  \n",
      "13311  6599ba629cfcfe8ac42c7d31c13f62de  \n",
      "13312  e57f181bec5b11870a541c43d9b960f7  \n",
      "13313  a340c62a1226509949ef60df10a7d726  \n",
      "13314  a36a922c50b554cad6cd0eb98a5eaad8  \n",
      "\n",
      "[13278 rows x 10 columns]\n"
     ]
    }
   ],
   "source": [
    "# Remove duplicates\n",
    "applications_data.drop_duplicates(subset='applicant_id', keep='last', inplace=True)\n",
    "print(applications_data)"
   ]
  },
  {
   "cell_type": "code",
   "execution_count": 5,
   "id": "03a958c4-927e-4e9a-a3ee-c3567ed1b585",
   "metadata": {},
   "outputs": [
    {
     "name": "stdout",
     "output_type": "stream",
     "text": [
      "                Applied at   Amount  Age   Gender  \\\n",
      "1      11.30.2022 10:26:39      NaN   36  Чоловік   \n",
      "2      11.30.2022 10:26:58   7500.0   34  Чоловік   \n",
      "3      11.30.2022 10:27:31   1500.0   23    Жінка   \n",
      "4      11.30.2022 10:27:34   8400.0   33    Жінка   \n",
      "5      11.30.2022 10:27:38  16500.0   31  Чоловік   \n",
      "...                    ...      ...  ...      ...   \n",
      "13310     01.09.2023 11:01  12000.0   25  Чоловік   \n",
      "13311     01.09.2023 11:14  10500.0   28  Чоловік   \n",
      "13312     01.09.2023 11:19   5790.0   25  Чоловік   \n",
      "13313     01.09.2023 11:28  13500.0   31  Чоловік   \n",
      "13314     01.09.2023 11:38  12600.0   32  Чоловік   \n",
      "\n",
      "                           Industry Marital status  External Rating  \\\n",
      "1      Public services / Government         Single              3.0   \n",
      "2              Adtech / Advertising         Single              4.0   \n",
      "3                           Telecom         Single              0.0   \n",
      "4                        Automotive         Single              6.0   \n",
      "5                        E-commerce         Single              8.0   \n",
      "...                             ...            ...              ...   \n",
      "13310          Medtech / Healthcare         Single              6.0   \n",
      "13311                    Blockchain        Married              5.0   \n",
      "13312                    Blockchain        Married              3.0   \n",
      "13313                        Mobile         Single              8.0   \n",
      "13314             High Load Systems        Married             11.0   \n",
      "\n",
      "                            Education level            Location  \\\n",
      "1      Вища (бакалавр, спеціаліст, магістр)                 NaN   \n",
      "2      Вища (бакалавр, спеціаліст, магістр)     Київ чи область   \n",
      "3      Вища (бакалавр, спеціаліст, магістр)    Львів чи область   \n",
      "4      Вища (бакалавр, спеціаліст, магістр)  Житомир чи область   \n",
      "5      Вища (бакалавр, спеціаліст, магістр)     Київ чи область   \n",
      "...                                     ...                 ...   \n",
      "13310  Вища (бакалавр, спеціаліст, магістр)   Харків чи область   \n",
      "13311  Вища (бакалавр, спеціаліст, магістр)                 NaN   \n",
      "13312  Вища (бакалавр, спеціаліст, магістр)   Дніпро чи область   \n",
      "13313                               Середня    Одеса чи область   \n",
      "13314  Вища (бакалавр, спеціаліст, магістр)                 NaN   \n",
      "\n",
      "                           applicant_id  \n",
      "1      63dfcf8e6904186650d6814279fbe42f  \n",
      "2      10dbafaeb46c09e96b6987c03bbb3498  \n",
      "3      5847ac62cc9eac5e323c2517dcc91ad1  \n",
      "4      5d21f3795b50de8e8f8f8d5f48b754f3  \n",
      "5      f720bf9c5c4c3e10a8568c1699847696  \n",
      "...                                 ...  \n",
      "13310  01908b949a6a1eb44d1ee013ec377f9d  \n",
      "13311  6599ba629cfcfe8ac42c7d31c13f62de  \n",
      "13312  e57f181bec5b11870a541c43d9b960f7  \n",
      "13313  a340c62a1226509949ef60df10a7d726  \n",
      "13314  a36a922c50b554cad6cd0eb98a5eaad8  \n",
      "\n",
      "[13278 rows x 10 columns]\n"
     ]
    }
   ],
   "source": [
    "# Replace empty values ​​in 'External Rating' with 0\n",
    "applications_data['External Rating'].fillna(0, inplace = True)\n",
    "print(applications_data)"
   ]
  },
  {
   "cell_type": "code",
   "execution_count": 6,
   "id": "c1582e6c-8e93-4621-a6e5-10989a3173a9",
   "metadata": {},
   "outputs": [
    {
     "data": {
      "text/plain": [
       "Applied at                          11.30.2022 10:36:59\n",
       "Amount                                          30000.0\n",
       "Age                                                  29\n",
       "Gender                                          Чоловік\n",
       "Industry                                     Blockchain\n",
       "Marital status                                   Single\n",
       "External Rating                                     7.0\n",
       "Education level    Вища (бакалавр, спеціаліст, магістр)\n",
       "Location                                Київ чи область\n",
       "applicant_id           d85404bd5576f05b711ad56cad428463\n",
       "Name: 80, dtype: object"
      ]
     },
     "execution_count": 6,
     "metadata": {},
     "output_type": "execute_result"
    }
   ],
   "source": [
    "# Check\n",
    "applications_data.iloc[78]"
   ]
  },
  {
   "cell_type": "code",
   "execution_count": 7,
   "id": "8be02f8a-19e4-45c0-8273-3e34652ee8f6",
   "metadata": {
    "editable": true,
    "slideshow": {
     "slide_type": ""
    },
    "tags": []
   },
   "outputs": [
    {
     "name": "stdout",
     "output_type": "stream",
     "text": [
      "                Applied at   Amount  Age   Gender  \\\n",
      "1      11.30.2022 10:26:39      NaN   36  Чоловік   \n",
      "2      11.30.2022 10:26:58   7500.0   34  Чоловік   \n",
      "3      11.30.2022 10:27:31   1500.0   23    Жінка   \n",
      "4      11.30.2022 10:27:34   8400.0   33    Жінка   \n",
      "5      11.30.2022 10:27:38  16500.0   31  Чоловік   \n",
      "...                    ...      ...  ...      ...   \n",
      "13310     01.09.2023 11:01  12000.0   25  Чоловік   \n",
      "13311     01.09.2023 11:14  10500.0   28  Чоловік   \n",
      "13312     01.09.2023 11:19   5790.0   25  Чоловік   \n",
      "13313     01.09.2023 11:28  13500.0   31  Чоловік   \n",
      "13314     01.09.2023 11:38  12600.0   32  Чоловік   \n",
      "\n",
      "                           Industry Marital status  External Rating  \\\n",
      "1      Public services / Government         Single              3.0   \n",
      "2              Adtech / Advertising         Single              4.0   \n",
      "3                           Telecom         Single              0.0   \n",
      "4                        Automotive         Single              6.0   \n",
      "5                        E-commerce         Single              8.0   \n",
      "...                             ...            ...              ...   \n",
      "13310          Medtech / Healthcare         Single              6.0   \n",
      "13311                    Blockchain        Married              5.0   \n",
      "13312                    Blockchain        Married              3.0   \n",
      "13313                        Mobile         Single              8.0   \n",
      "13314             High Load Systems        Married             11.0   \n",
      "\n",
      "                            Education level            Location  \\\n",
      "1      Вища (бакалавр, спеціаліст, магістр)                 NaN   \n",
      "2      Вища (бакалавр, спеціаліст, магістр)     Київ чи область   \n",
      "3      Вища (бакалавр, спеціаліст, магістр)    Львів чи область   \n",
      "4      Вища (бакалавр, спеціаліст, магістр)  Житомир чи область   \n",
      "5      Вища (бакалавр, спеціаліст, магістр)     Київ чи область   \n",
      "...                                     ...                 ...   \n",
      "13310  Вища (бакалавр, спеціаліст, магістр)   Харків чи область   \n",
      "13311  Вища (бакалавр, спеціаліст, магістр)                 NaN   \n",
      "13312  Вища (бакалавр, спеціаліст, магістр)   Дніпро чи область   \n",
      "13313                               Середня    Одеса чи область   \n",
      "13314  Вища (бакалавр, спеціаліст, магістр)                 NaN   \n",
      "\n",
      "                           applicant_id  \n",
      "1      63dfcf8e6904186650d6814279fbe42f  \n",
      "2      10dbafaeb46c09e96b6987c03bbb3498  \n",
      "3      5847ac62cc9eac5e323c2517dcc91ad1  \n",
      "4      5d21f3795b50de8e8f8f8d5f48b754f3  \n",
      "5      f720bf9c5c4c3e10a8568c1699847696  \n",
      "...                                 ...  \n",
      "13310  01908b949a6a1eb44d1ee013ec377f9d  \n",
      "13311  6599ba629cfcfe8ac42c7d31c13f62de  \n",
      "13312  e57f181bec5b11870a541c43d9b960f7  \n",
      "13313  a340c62a1226509949ef60df10a7d726  \n",
      "13314  a36a922c50b554cad6cd0eb98a5eaad8  \n",
      "\n",
      "[13278 rows x 10 columns]\n"
     ]
    }
   ],
   "source": [
    "# В полі 'Education level' заповни відсутні значення текстом “Середня”\n",
    "applications_data['Education level'].fillna('Середня', inplace = True)\n",
    "print(applications_data)"
   ]
  },
  {
   "cell_type": "code",
   "execution_count": 8,
   "id": "9e3e2ce1-8048-4e08-b6f6-607aaa3556a8",
   "metadata": {},
   "outputs": [
    {
     "data": {
      "text/plain": [
       "Applied at                         12.02.2022 17:06\n",
       "Amount                                       2400.0\n",
       "Age                                              23\n",
       "Gender                                      Чоловік\n",
       "Industry                                      AR/VR\n",
       "Marital status                              Married\n",
       "External Rating                                 1.0\n",
       "Education level                             Середня\n",
       "Location                            Київ чи область\n",
       "applicant_id       a11cf64fccf393b2e85577c9735b352b\n",
       "Name: 3246, dtype: object"
      ]
     },
     "execution_count": 8,
     "metadata": {},
     "output_type": "execute_result"
    }
   ],
   "source": [
    "# Check\n",
    "applications_data.iloc[3236]"
   ]
  },
  {
   "cell_type": "code",
   "execution_count": 9,
   "id": "eb3b3fa0-661b-4bb4-a01c-5b1feec9b6a9",
   "metadata": {},
   "outputs": [],
   "source": [
    "# Adding the DataFrame data from the industries.csv file, namely the Industry rankings.\n",
    "industries_data = pd.read_csv('C:/Users/industries(2.0).csv')"
   ]
  },
  {
   "cell_type": "code",
   "execution_count": 10,
   "id": "bde6e44d-2e0d-44d2-b1ac-516b76a872b5",
   "metadata": {},
   "outputs": [
    {
     "data": {
      "text/html": [
       "<div>\n",
       "<style scoped>\n",
       "    .dataframe tbody tr th:only-of-type {\n",
       "        vertical-align: middle;\n",
       "    }\n",
       "\n",
       "    .dataframe tbody tr th {\n",
       "        vertical-align: top;\n",
       "    }\n",
       "\n",
       "    .dataframe thead th {\n",
       "        text-align: right;\n",
       "    }\n",
       "</style>\n",
       "<table border=\"1\" class=\"dataframe\">\n",
       "  <thead>\n",
       "    <tr style=\"text-align: right;\">\n",
       "      <th></th>\n",
       "      <th>Applied at</th>\n",
       "      <th>Amount</th>\n",
       "      <th>Age</th>\n",
       "      <th>Gender</th>\n",
       "      <th>Industry</th>\n",
       "      <th>Marital status</th>\n",
       "      <th>External Rating</th>\n",
       "      <th>Education level</th>\n",
       "      <th>Location</th>\n",
       "      <th>applicant_id</th>\n",
       "      <th>Score</th>\n",
       "    </tr>\n",
       "  </thead>\n",
       "  <tbody>\n",
       "    <tr>\n",
       "      <th>0</th>\n",
       "      <td>11.30.2022 10:26:39</td>\n",
       "      <td>NaN</td>\n",
       "      <td>36</td>\n",
       "      <td>Чоловік</td>\n",
       "      <td>Public services / Government</td>\n",
       "      <td>Single</td>\n",
       "      <td>3.0</td>\n",
       "      <td>Вища (бакалавр, спеціаліст, магістр)</td>\n",
       "      <td>NaN</td>\n",
       "      <td>63dfcf8e6904186650d6814279fbe42f</td>\n",
       "      <td>20</td>\n",
       "    </tr>\n",
       "    <tr>\n",
       "      <th>1</th>\n",
       "      <td>11.30.2022 10:26:58</td>\n",
       "      <td>7500.0</td>\n",
       "      <td>34</td>\n",
       "      <td>Чоловік</td>\n",
       "      <td>Adtech / Advertising</td>\n",
       "      <td>Single</td>\n",
       "      <td>4.0</td>\n",
       "      <td>Вища (бакалавр, спеціаліст, магістр)</td>\n",
       "      <td>Київ чи область</td>\n",
       "      <td>10dbafaeb46c09e96b6987c03bbb3498</td>\n",
       "      <td>10</td>\n",
       "    </tr>\n",
       "    <tr>\n",
       "      <th>2</th>\n",
       "      <td>11.30.2022 10:27:31</td>\n",
       "      <td>1500.0</td>\n",
       "      <td>23</td>\n",
       "      <td>Жінка</td>\n",
       "      <td>Telecom</td>\n",
       "      <td>Single</td>\n",
       "      <td>0.0</td>\n",
       "      <td>Вища (бакалавр, спеціаліст, магістр)</td>\n",
       "      <td>Львів чи область</td>\n",
       "      <td>5847ac62cc9eac5e323c2517dcc91ad1</td>\n",
       "      <td>15</td>\n",
       "    </tr>\n",
       "    <tr>\n",
       "      <th>3</th>\n",
       "      <td>11.30.2022 10:27:34</td>\n",
       "      <td>8400.0</td>\n",
       "      <td>33</td>\n",
       "      <td>Жінка</td>\n",
       "      <td>Automotive</td>\n",
       "      <td>Single</td>\n",
       "      <td>6.0</td>\n",
       "      <td>Вища (бакалавр, спеціаліст, магістр)</td>\n",
       "      <td>Житомир чи область</td>\n",
       "      <td>5d21f3795b50de8e8f8f8d5f48b754f3</td>\n",
       "      <td>15</td>\n",
       "    </tr>\n",
       "    <tr>\n",
       "      <th>4</th>\n",
       "      <td>11.30.2022 10:27:38</td>\n",
       "      <td>16500.0</td>\n",
       "      <td>31</td>\n",
       "      <td>Чоловік</td>\n",
       "      <td>E-commerce</td>\n",
       "      <td>Single</td>\n",
       "      <td>8.0</td>\n",
       "      <td>Вища (бакалавр, спеціаліст, магістр)</td>\n",
       "      <td>Київ чи область</td>\n",
       "      <td>f720bf9c5c4c3e10a8568c1699847696</td>\n",
       "      <td>15</td>\n",
       "    </tr>\n",
       "  </tbody>\n",
       "</table>\n",
       "</div>"
      ],
      "text/plain": [
       "            Applied at   Amount  Age   Gender                      Industry  \\\n",
       "0  11.30.2022 10:26:39      NaN   36  Чоловік  Public services / Government   \n",
       "1  11.30.2022 10:26:58   7500.0   34  Чоловік          Adtech / Advertising   \n",
       "2  11.30.2022 10:27:31   1500.0   23    Жінка                       Telecom   \n",
       "3  11.30.2022 10:27:34   8400.0   33    Жінка                    Automotive   \n",
       "4  11.30.2022 10:27:38  16500.0   31  Чоловік                    E-commerce   \n",
       "\n",
       "  Marital status  External Rating                       Education level  \\\n",
       "0         Single              3.0  Вища (бакалавр, спеціаліст, магістр)   \n",
       "1         Single              4.0  Вища (бакалавр, спеціаліст, магістр)   \n",
       "2         Single              0.0  Вища (бакалавр, спеціаліст, магістр)   \n",
       "3         Single              6.0  Вища (бакалавр, спеціаліст, магістр)   \n",
       "4         Single              8.0  Вища (бакалавр, спеціаліст, магістр)   \n",
       "\n",
       "             Location                      applicant_id  Score  \n",
       "0                 NaN  63dfcf8e6904186650d6814279fbe42f     20  \n",
       "1     Київ чи область  10dbafaeb46c09e96b6987c03bbb3498     10  \n",
       "2    Львів чи область  5847ac62cc9eac5e323c2517dcc91ad1     15  \n",
       "3  Житомир чи область  5d21f3795b50de8e8f8f8d5f48b754f3     15  \n",
       "4     Київ чи область  f720bf9c5c4c3e10a8568c1699847696     15  "
      ]
     },
     "execution_count": 10,
     "metadata": {},
     "output_type": "execute_result"
    }
   ],
   "source": [
    "merged_data = pd.merge(applications_data, industries_data, on = 'Industry', how = 'left')\n",
    "merged_data.head()"
   ]
  },
  {
   "cell_type": "code",
   "execution_count": 11,
   "id": "14f21764-f528-4724-8eeb-e0dfcff08c60",
   "metadata": {},
   "outputs": [
    {
     "name": "stdout",
     "output_type": "stream",
     "text": [
      "                Applied at   Amount  Age   Gender  \\\n",
      "0      11.30.2022 10:26:39      NaN   36  Чоловік   \n",
      "1      11.30.2022 10:26:58   7500.0   34  Чоловік   \n",
      "2      11.30.2022 10:27:31   1500.0   23    Жінка   \n",
      "3      11.30.2022 10:27:34   8400.0   33    Жінка   \n",
      "4      11.30.2022 10:27:38  16500.0   31  Чоловік   \n",
      "...                    ...      ...  ...      ...   \n",
      "13273     01.09.2023 11:01  12000.0   25  Чоловік   \n",
      "13274     01.09.2023 11:14  10500.0   28  Чоловік   \n",
      "13275     01.09.2023 11:19   5790.0   25  Чоловік   \n",
      "13276     01.09.2023 11:28  13500.0   31  Чоловік   \n",
      "13277     01.09.2023 11:38  12600.0   32  Чоловік   \n",
      "\n",
      "                           Industry Marital status  External Rating  \\\n",
      "0      Public services / Government         Single              3.0   \n",
      "1              Adtech / Advertising         Single              4.0   \n",
      "2                           Telecom         Single              0.0   \n",
      "3                        Automotive         Single              6.0   \n",
      "4                        E-commerce         Single              8.0   \n",
      "...                             ...            ...              ...   \n",
      "13273          Medtech / Healthcare         Single              6.0   \n",
      "13274                    Blockchain        Married              5.0   \n",
      "13275                    Blockchain        Married              3.0   \n",
      "13276                        Mobile         Single              8.0   \n",
      "13277             High Load Systems        Married             11.0   \n",
      "\n",
      "                            Education level            Location  \\\n",
      "0      Вища (бакалавр, спеціаліст, магістр)                 NaN   \n",
      "1      Вища (бакалавр, спеціаліст, магістр)     Київ чи область   \n",
      "2      Вища (бакалавр, спеціаліст, магістр)    Львів чи область   \n",
      "3      Вища (бакалавр, спеціаліст, магістр)  Житомир чи область   \n",
      "4      Вища (бакалавр, спеціаліст, магістр)     Київ чи область   \n",
      "...                                     ...                 ...   \n",
      "13273  Вища (бакалавр, спеціаліст, магістр)   Харків чи область   \n",
      "13274  Вища (бакалавр, спеціаліст, магістр)                 NaN   \n",
      "13275  Вища (бакалавр, спеціаліст, магістр)   Дніпро чи область   \n",
      "13276                               Середня    Одеса чи область   \n",
      "13277  Вища (бакалавр, спеціаліст, магістр)                 NaN   \n",
      "\n",
      "                           applicant_id  Score        Date      Time  \n",
      "0      63dfcf8e6904186650d6814279fbe42f     20  11.30.2022  10:26:39  \n",
      "1      10dbafaeb46c09e96b6987c03bbb3498     10  11.30.2022  10:26:58  \n",
      "2      5847ac62cc9eac5e323c2517dcc91ad1     15  11.30.2022  10:27:31  \n",
      "3      5d21f3795b50de8e8f8f8d5f48b754f3     15  11.30.2022  10:27:34  \n",
      "4      f720bf9c5c4c3e10a8568c1699847696     15  11.30.2022  10:27:38  \n",
      "...                                 ...    ...         ...       ...  \n",
      "13273  01908b949a6a1eb44d1ee013ec377f9d     15  01.09.2023     11:01  \n",
      "13274  6599ba629cfcfe8ac42c7d31c13f62de      0  01.09.2023     11:14  \n",
      "13275  e57f181bec5b11870a541c43d9b960f7      0  01.09.2023     11:19  \n",
      "13276  a340c62a1226509949ef60df10a7d726     15  01.09.2023     11:28  \n",
      "13277  a36a922c50b554cad6cd0eb98a5eaad8     15  01.09.2023     11:38  \n",
      "\n",
      "[13278 rows x 13 columns]\n"
     ]
    }
   ],
   "source": [
    "# Split object 'Applied at'. Separate Date and Time. Because the format has a different type of writing. \n",
    "# And that's why we can't do the conversion from the Object type to the Datetime type.\n",
    "# We are reduced Date to one type of writing m:d:y\n",
    "merged_data[['Date', 'Time']] = merged_data['Applied at'].str.split(' ', expand = True)\n",
    "print(merged_data)"
   ]
  },
  {
   "cell_type": "code",
   "execution_count": 12,
   "id": "925b173b-9efc-4c44-b8e1-060056d1d260",
   "metadata": {},
   "outputs": [],
   "source": [
    "# Transform object 'Date' to Datatime\n",
    "merged_data['Date'] = pd.to_datetime(merged_data['Date'], format='%m.%d.%Y')"
   ]
  },
  {
   "cell_type": "code",
   "execution_count": 13,
   "id": "389cc516-a702-468b-b0f3-4a19474488e1",
   "metadata": {},
   "outputs": [],
   "source": [
    "# Creatin Rating\n",
    "# Creating a new 'Rating' column with an initial value of 0\n",
    "merged_data['Rating'] = 0\n",
    "merged_data['Rating'] += ((merged_data['Age'] >= 35) & (merged_data['Age'] <= 55)) * 20\n",
    "merged_data['Rating'] += (merged_data['Date'].dt.weekday < 5) * 20\n",
    "merged_data['Rating'] += (merged_data['Marital status'] == 'Married') * 20\n",
    "merged_data['Rating'] += merged_data['Location'].str.contains('Київ чи область', case=False, na=False) * 10\n",
    "merged_data['Rating'] += merged_data['Score']\n",
    "merged_data['Rating'] += (merged_data['External Rating'] >= 7) * 20\n",
    "merged_data['Rating'] -= (merged_data['External Rating'] <= 2) * 20"
   ]
  },
  {
   "cell_type": "code",
   "execution_count": 14,
   "id": "2616030d-3ff7-4b5f-85ab-a38ecb483761",
   "metadata": {},
   "outputs": [],
   "source": [
    "# Conditions for zero-rating\n",
    "merged_data.loc[(merged_data['Amount'].isna()) | (merged_data['External Rating'] == 0), 'Rating'] = 0"
   ]
  },
  {
   "cell_type": "code",
   "execution_count": 15,
   "id": "8db0277e-dffd-4438-8604-6f390b348c39",
   "metadata": {},
   "outputs": [],
   "source": [
    "# Limit rating values ​​in the range from 0 to 100\n",
    "merged_data['Rating'] = merged_data['Rating'].clip(0, 100)"
   ]
  },
  {
   "cell_type": "code",
   "execution_count": 16,
   "id": "a6dc569d-4260-48d2-932f-06ae1a95e782",
   "metadata": {},
   "outputs": [
    {
     "name": "stdout",
     "output_type": "stream",
     "text": [
      "                           applicant_id  Rating\n",
      "0      63dfcf8e6904186650d6814279fbe42f       0\n",
      "1      10dbafaeb46c09e96b6987c03bbb3498      40\n",
      "2      5847ac62cc9eac5e323c2517dcc91ad1       0\n",
      "3      5d21f3795b50de8e8f8f8d5f48b754f3      35\n",
      "4      f720bf9c5c4c3e10a8568c1699847696      65\n",
      "...                                 ...     ...\n",
      "13273  01908b949a6a1eb44d1ee013ec377f9d      35\n",
      "13274  6599ba629cfcfe8ac42c7d31c13f62de      40\n",
      "13275  e57f181bec5b11870a541c43d9b960f7      40\n",
      "13276  a340c62a1226509949ef60df10a7d726      55\n",
      "13277  a36a922c50b554cad6cd0eb98a5eaad8      75\n",
      "\n",
      "[13278 rows x 2 columns]\n"
     ]
    }
   ],
   "source": [
    "# View the result\n",
    "print(merged_data[['applicant_id', 'Rating']])"
   ]
  },
  {
   "cell_type": "code",
   "execution_count": 17,
   "id": "87b8717a-50d6-43c2-891f-1b3024b4e569",
   "metadata": {},
   "outputs": [],
   "source": [
    "# Filter applications with a rating greater than zero\n",
    "rating_without_zero = merged_data[merged_data['Rating'] > 0].copy()"
   ]
  },
  {
   "cell_type": "code",
   "execution_count": 18,
   "id": "9d3290bf-fee4-4043-abe9-68b5c0a921eb",
   "metadata": {},
   "outputs": [],
   "source": [
    "# Adding a column 'Week' for the week of application\n",
    "rating_without_zero.loc[:, 'Week'] = rating_without_zero['Date'].dt.isocalendar().week"
   ]
  },
  {
   "cell_type": "code",
   "execution_count": 19,
   "id": "359d1a65-1439-4027-af4c-5af7c211fa03",
   "metadata": {},
   "outputs": [
    {
     "name": "stdout",
     "output_type": "stream",
     "text": [
      "Average rating by week:\n",
      "   Week     Rating\n",
      "0     1  51.174699\n",
      "1     2  51.875000\n",
      "2    48  50.652504\n",
      "3    49  49.454904\n",
      "4    50  49.834884\n",
      "5    51  46.959146\n",
      "6    52  50.931303\n"
     ]
    }
   ],
   "source": [
    "# Grouping by week and calculating the average rating\n",
    "weekly_average_rating = rating_without_zero.groupby('Week')['Rating'].mean().reset_index()\n",
    "print(\"Average rating by week:\")\n",
    "print(weekly_average_rating)"
   ]
  },
  {
   "cell_type": "code",
   "execution_count": 20,
   "id": "95c5acfe-b6f6-49db-98ae-dcd25d067733",
   "metadata": {},
   "outputs": [
    {
     "name": "stdout",
     "output_type": "stream",
     "text": [
      "Checking for NaN values:\n",
      "Rating    0\n",
      "Week      0\n",
      "dtype: int64\n",
      "Data after cleaning:\n",
      "   Rating  Week\n",
      "1      40    48\n",
      "3      35    48\n",
      "4      65    48\n",
      "5      35    48\n",
      "6      35    48\n"
     ]
    }
   ],
   "source": [
    "# Checking errors\n",
    "# Checking that all values ​​in 'Rating' are numeric\n",
    "rating_without_zero['Rating'] = pd.to_numeric(rating_without_zero['Rating'], errors='coerce')\n",
    "\n",
    "# Checking for NaN values ​​in 'Rating' and 'Week' columns\n",
    "print(\"Checking for NaN values:\")\n",
    "print(rating_without_zero[['Rating', 'Week']].isna().sum())\n",
    "\n",
    "# Remove rows with NaN values ​​in 'Rating' or 'Week'\n",
    "rating_without_zero.dropna(subset=['Rating', 'Week'], inplace=True)\n",
    "\n",
    "# Data validation after cleaning\n",
    "print(\"Data after cleaning:\")\n",
    "print(rating_without_zero[['Rating', 'Week']].head())"
   ]
  },
  {
   "cell_type": "code",
   "execution_count": 21,
   "id": "ec89ca64-8a57-4dca-a291-4d099868cff5",
   "metadata": {},
   "outputs": [
    {
     "data": {
      "text/plain": [
       "<Figure size 1000x600 with 0 Axes>"
      ]
     },
     "metadata": {},
     "output_type": "display_data"
    },
    {
     "data": {
      "image/png": "[encoded data removed]",
      "text/plain": [
       "<Figure size 640x480 with 1 Axes>"
      ]
     },
     "metadata": {},
     "output_type": "display_data"
    }
   ],
   "source": [
    "# Plotting graph\n",
    "plt.figure(figsize=(10, 6))\n",
    "weekly_average_rating.plot(kind='line', marker='o')\n",
    "plt.title('Average rating of accepted applications by weeks')\n",
    "plt.xlabel('Week')\n",
    "plt.ylabel('Average rating')\n",
    "plt.grid(True)\n",
    "plt.show()\n"
   ]
  },
  {
   "cell_type": "code",
   "execution_count": null,
   "id": "9b7f6e38-a0b7-4fb6-9a64-884d80f8d0a1",
   "metadata": {},
   "outputs": [],
   "source": []
  }
 ],
 "metadata": {
  "kernelspec": {
   "display_name": "Python 3 (ipykernel)",
   "language": "python",
   "name": "python3"
  },
  "language_info": {
   "codemirror_mode": {
    "name": "ipython",
    "version": 3
   },
   "file_extension": ".py",
   "mimetype": "text/x-python",
   "name": "python",
   "nbconvert_exporter": "python",
   "pygments_lexer": "ipython3",
   "version": "3.11.7"
  }
 },
 "nbformat": 4,
 "nbformat_minor": 5
}
